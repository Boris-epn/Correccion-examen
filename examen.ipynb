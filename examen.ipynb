{
 "cells": [
  {
   "cell_type": "markdown",
   "metadata": {},
   "source": [
    "Escuela Politécnica Nacional\n",
    "# Corrección examen 1\n"
   ]
  },
  {
   "cell_type": "markdown",
   "metadata": {},
   "source": [
    "1. Los primeros tres términos diferentes a cero de la serie de Maclaurin para la función arcotangente son:\n",
    "\n",
    "$x - \\frac{1}{3} \\cdot x^3 + \\frac{1}{5} \\cdot x^5.$\n",
    "\n",
    "Calcule el error relativo en las siguientes aproximaciones de $\\pi$ mediante el polinomio (en lugar del arcotangente).\n",
    "Asuma que $\\pi = 3.14159.$\n",
    "## Aproximando π con la Serie de Maclaurin de arctan(x)\n",
    "**Aproximación de arctan(x):**\n",
    "     * Se sustituyen los valores seleccionados de x en la serie de Maclaurin y se calculan los primeros términos para obtener una aproximación.\n",
    "     * **Ejemplo:**\n",
    "       \n",
    "       arctan(1/2) ≈ 1/2 - (1/3)(1/2)^3 + (1/5)(1/2)^5\n",
    "       \n",
    "\n",
    "   \n",
    "**Utilización de fórmulas trigonométricas:**\n",
    "     * Se emplean fórmulas que relacionan π con funciones trigonométricas inversas (como arctan) para construir expresiones que involucren las aproximaciones obtenidas en el paso anterior.\n",
    "     * **Ejemplo:** La fórmula 4 * (arctan(1/2) + arctan(1/3)) se utiliza para aproximar π.\n",
    "     \n",
    "\n",
    "**Cálculo de la aproximación de π:**\n",
    "* Se evalúan las expresiones obtenidas en el paso anterior para obtener un valor numérico aproximado de π.\n",
    "\n",
    "**Cálculo del error:**\n",
    "     * Se calcula la diferencia entre el valor aproximado y el valor real de π (3.14159).\n",
    "     * Se calcula el error relativo dividiendo el error absoluto entre el valor real.\n",
    "#### 1. Aproximación: $4 \\cdot (\\arctan(1/2) + \\arctan(1/3))$\n",
    "\n",
    "Redondee a 4 cifras significativas únicamente en la respuesta final de sus cálculos.\n",
    "\n",
    "$\\epsilon = 0.001269$ .\n",
    "\n",
    "¿En qué orden de magnitud está este error? Es decir, $\\epsilon < 10^n$$, $$n = -2$.\n",
    "\n",
    "\n",
    "#### 2. Aproximación: $16 \\cdot \\arctan(1/5) - 4 \\cdot \\arctan(1/239)$\n",
    "\n",
    "$\\epsilon = 0.00009877$.\n",
    "\n",
    "¿En qué orden de magnitud está este error? Es decir, $\\epsilon < 10^n$$, $$n = -5$.\n"
   ]
  },
  {
   "cell_type": "code",
   "execution_count": 1,
   "metadata": {
    "ExecuteTime": {
     "end_time": "2024-12-12T02:11:16.091177Z",
     "start_time": "2024-12-12T02:11:16.078025Z"
    }
   },
   "outputs": [
    {
     "name": "stdout",
     "output_type": "stream",
     "text": [
      "Aproximación 1: 3.145576\n",
      "Error relativo 1: 1.2688e-03\n",
      "Orden de magnitud del error 1: -3\n",
      "Aproximación 2: 3.141621\n",
      "Error relativo 2: 9.8769e-06\n",
      "Orden de magnitud del error 2: -6\n"
     ]
    }
   ],
   "source": [
    "import math\n",
    "\n",
    "def arctan_approx(x):\n",
    "    return x - (x**3)/3 + (x**5)/5\n",
    "\n",
    "def calcular_pi(formula):\n",
    "    return formula()\n",
    "\n",
    "def error_relativo(valor_aproximado, valor_exacto):\n",
    "    return abs((valor_aproximado - valor_exacto) / valor_exacto)\n",
    "\n",
    "def orden_magnitud(error):\n",
    "    return math.floor(math.log10(abs(error))) if error != 0 else -math.inf\n",
    "\n",
    "pi_exacto = 3.14159\n",
    "\n",
    "formula1 = lambda: 4 * (arctan_approx(1/2) + arctan_approx(1/3))\n",
    "formula2 = lambda: 16 * arctan_approx(1/5) - 4 * arctan_approx(1/239)\n",
    "\n",
    "pi_aprox1 = calcular_pi(formula1)\n",
    "error_rel_1 = error_relativo(pi_aprox1, pi_exacto)\n",
    "orden_magnitud_1 = orden_magnitud(error_rel_1)\n",
    "\n",
    "pi_aprox2 = calcular_pi(formula2)\n",
    "error_rel_2 = error_relativo(pi_aprox2, pi_exacto)\n",
    "orden_magnitud_2 = orden_magnitud(error_rel_2)\n",
    "\n",
    "print(f\"Aproximación 1: {pi_aprox1:.6f}\")\n",
    "print(f\"Error relativo 1: {error_rel_1:.4e}\")\n",
    "print(f\"Orden de magnitud del error 1: {orden_magnitud_1}\")\n",
    "\n",
    "print(f\"Aproximación 2: {pi_aprox2:.6f}\")\n",
    "print(f\"Error relativo 2: {error_rel_2:.4e}\")\n",
    "print(f\"Orden de magnitud del error 2: {orden_magnitud_2}\")"
   ]
  },
  {
   "cell_type": "markdown",
   "metadata": {},
   "source": [
    "2. Suponga que dos puntos $(x_0, y_0)$ y $(x_1, y_1)$ se encuentran en línea recta con $y_1 \\neq y_0$.\n",
    "\n",
    "Existen dos fórmulas para encontrar la intersección $x$ de la línea:\n",
    "\n",
    "**Método A**: $x = \\frac{x_0 y_1 - x_1 y_0}{y_1 - y_0}$\n",
    "\n",
    "**Método B**: $x = x_0 - \\frac{(x_1 - x_0) y_0}{y_1 - y_0}$\n",
    "\n",
    "Usando los datos $(x_0, y_0) = (1.31, 3.24)$ y $(x_1, y_1) = (1.93, 4.76)$, determine el valor real de la intersección $x$ (asumiendo redondeo a 6 cifras significativas):\n",
    "### Cálculo con Aritmética de 3 Cifras Significativas\n",
    "**Método A:**\n",
    "1. Sustitución: x = (1.31 * 4.76 - 1.93 * 3.24) / (4.76 - 3.24)\n",
    "2. Cálculo: x ≈ -0.00658\n",
    "\n",
    "**Método B:**\n",
    "1. Sustitución: x = 1.31 - ((1.93 - 1.31) * 3.24) / (4.76 - 3.24)\n",
    "2. Cálculo: x ≈ -0.01\n",
    "\n",
    "### Cálculo del Error Relativo\n",
    "* **Fórmula:** Error relativo = |(valor aproximado - valor exacto) / valor exacto|\n",
    "* **Método A:** Error relativo ≈ 0.432\n",
    "* **Método B:** Error relativo ≈ 0.136\n",
    "## Menor error\n",
    "el método con menor error es el método B debido a que contiene una menor cantidad de multiplicaciones que son las operaciones que causan mayor error."
   ]
  },
  {
   "cell_type": "markdown",
   "metadata": {},
   "source": [
    "3. La función $sen(x)$ tiene infinitas soluciones\n",
    "![pregunta3](pregunta3.png)\n",
    "Este ejercicio se puede resolver al entender el método de la bisección, este métdo funciona al obtener el punto medio entre dos imágenes de signo distinto, realizando este proceso se pueden obtener las siguientes respuestas:\n",
    "* $a=-2.5,b=-1$ Error las immágenes de estos puntos tienen el mismo signo.\n",
    "* $a=-3.5,b-3$ Error las immágenes de estos puntos tienen el mismo signo.\n",
    "* $a=-4,b=5$ pi es el valor que se encuentra más cercano al punto medio.\n",
    "* $a=-5,b=4$ -pi es el valor que se encuentra más cercano al punto medio.\n",
    "* $a=-1,b=5$ 0 es el valor que se encuentra más cercano al puntos medio.\n",
    "* $a=3,b=5$ pi es el valor que se encuentra más cercano al punto medio.\n"
   ]
  },
  {
   "cell_type": "markdown",
   "metadata": {},
   "source": [
    "4. El método de Newton para encontrar raíces se basa en la siguiente ecuación:\n",
    "\n",
    "$$\n",
    "x_{n+1} = x_n - \\frac{f(x_n)}{f'(x_n)}\n",
    "$$\n",
    "\n",
    "Cuál es la raíz de la ecuación:\n",
    "\n",
    "$$\n",
    "x^3 + x = 1 + 3x^2\n",
    "$$\n",
    "\n",
    "$$\n",
    "x_{sol} = 2.76929235 \\ \n",
    "$$\n",
    "\n",
    "Qué sucede cuando:\n",
    "\n",
    "- $x_0 = 3 \\rightarrow x_{sol}$  \n",
    "- $x_0 = 1 \\rightarrow \\text{Error [diverge u oscila]}$   \n",
    "- $x_0 = 0 \\rightarrow \\text{Error [diverge u oscila]}$   \n",
    "- $x_0 = 1 + \\frac{\\sqrt{6}}{3} \\rightarrow \\text{Error [división para 0]}$ \n"
   ]
  },
  {
   "cell_type": "code",
   "execution_count": 2,
   "metadata": {
    "ExecuteTime": {
     "end_time": "2024-12-12T02:11:17.733458Z",
     "start_time": "2024-12-12T02:11:16.097194Z"
    }
   },
   "outputs": [
    {
     "name": "stdout",
     "output_type": "stream",
     "text": [
      "Solución encontrada (x0=3): 2.76929235423863\n",
      "Solución encontrada (x0=1): 2.76929235423863\n",
      "Could not find root within given tolerance. (1.94404735267969064602 > 2.16840434497100886801e-19)\n",
      "Try another starting point or tweak arguments.\n",
      "cannot create mpf from sqrt(6)/3 + 1\n"
     ]
    }
   ],
   "source": [
    "import sympy as sp\n",
    "\n",
    "# Definimos una variable simbólica x y la ecuación a resolver\n",
    "x = sp.Symbol('x', real=True)  # Creamos una variable simbólica x que representa un número real\n",
    "f = x**3 + x - 1 - 3*x**2  # Definimos la ecuación que queremos resolver\n",
    "\n",
    "# Intentamos encontrar las soluciones para diferentes valores iniciales\n",
    "try:\n",
    "    # Iniciamos la búsqueda desde x=3\n",
    "    sol = sp.nsolve(f, x, 3)  # Usamos nsolve para encontrar una solución numérica\n",
    "    print(\"Solución encontrada (x0=3):\", sol)\n",
    "except Exception as e:  # Si ocurre un error, lo imprimimos\n",
    "    print(e)\n",
    "\n",
    "# Repetimos el proceso para otros valores iniciales\n",
    "try:\n",
    "    sol_1 = sp.nsolve(f, x, 1)\n",
    "    print(\"Solución encontrada (x0=1):\", sol_1)\n",
    "except Exception as e:\n",
    "    print(e)\n",
    "\n",
    "try:\n",
    "    sol_0 = sp.nsolve(f, x, 0)\n",
    "    print(\"Solución encontrada (x0=0):\", sol_0)\n",
    "except Exception as e:\n",
    "    print(e)\n",
    "\n",
    "# Valor inicial especial\n",
    "x0_special = 1 + sp.sqrt(6)/3\n",
    "try:\n",
    "    sol_special = sp.nsolve(f, x, x0_special)\n",
    "    print(\"Solución encontrada (x0=1+sqrt(6)/3):\", sol_special)\n",
    "except Exception as e:\n",
    "    print(e)"
   ]
  },
  {
   "cell_type": "markdown",
   "metadata": {},
   "source": [
    "5. El método de la secante se basa en la siguiente fórmula:\n",
    "![](pregunta5.png)\n",
    "\n"
   ]
  },
  {
   "cell_type": "code",
   "execution_count": 9,
   "metadata": {},
   "outputs": [],
   "source": [
    "def secant_method(f, x0, x1, tol=1e-6, max_iter=100):\n",
    "    x_prev = x0\n",
    "    x_curr = x1\n",
    "    iter_count = 0\n",
    "\n",
    "    # Calcular f(x0) y f(x1) una vez\n",
    "    f_prev = f(x_prev)\n",
    "    f_curr = f(x_curr)\n",
    "\n",
    "    while abs(f_curr) > tol and iter_count < max_iter:\n",
    "        # Calcular el siguiente valor usando la fórmula del método de la secante\n",
    "        x_next = x_curr - f_curr * (x_curr - x_prev) / (f_curr - f_prev)\n",
    "        \n",
    "        # Verificar si el cambio en x es menor que la tolerancia\n",
    "        if abs(x_next - x_curr) < tol:\n",
    "            break\n",
    "        \n",
    "        # Actualizar los valores para la siguiente iteración\n",
    "        x_prev = x_curr\n",
    "        x_curr = x_next\n",
    "        f_prev = f_curr\n",
    "        f_curr = f(x_curr)\n",
    "        iter_count += 1\n",
    "\n",
    "    return x_curr, iter_count"
   ]
  },
  {
   "cell_type": "markdown",
   "metadata": {},
   "source": [
    "### Ejemplo 1"
   ]
  },
  {
   "cell_type": "code",
   "execution_count": 10,
   "metadata": {},
   "outputs": [
    {
     "name": "stdout",
     "output_type": "stream",
     "text": [
      "Llamada i=1\t x=2.00000\t y=-3.00\n",
      "Llamada i=2\t x=3.00000\t y=2.00\n",
      "Llamada i=3\t x=2.60000\t y=-1.10\n",
      "Llamada i=4\t x=2.74227\t y=-0.20\n",
      "Llamada i=5\t x=2.77296\t y=0.03\n",
      "Llamada i=6\t x=2.76922\t y=-0.00\n",
      "Llamada i=7\t x=2.76929\t y=-0.00\n"
     ]
    },
    {
     "data": {
      "text/plain": [
       "(2.7692921651959503, 5)"
      ]
     },
     "execution_count": 10,
     "metadata": {},
     "output_type": "execute_result"
    }
   ],
   "source": [
    "i = 0\n",
    "\n",
    "\n",
    "def func(x):\n",
    "    global i\n",
    "    i += 1\n",
    "    y = x**3 - 3 * x**2 + x - 1\n",
    "    print(f\"Llamada i={i}\\t x={x:.5f}\\t y={y:.2f}\")\n",
    "    return y\n",
    "\n",
    "\n",
    "secant_method(func, x0=2, x1=3)"
   ]
  },
  {
   "cell_type": "markdown",
   "metadata": {},
   "source": [
    "### Ejemplo2"
   ]
  },
  {
   "cell_type": "code",
   "execution_count": 11,
   "metadata": {},
   "outputs": [
    {
     "name": "stdout",
     "output_type": "stream",
     "text": [
      "Llamada i=1\t x=2.00000\t y=1.41\n",
      "Llamada i=2\t x=3.00000\t y=0.64\n",
      "Llamada i=3\t x=3.83460\t y=-0.14\n",
      "Llamada i=4\t x=3.68602\t y=-0.02\n",
      "Llamada i=5\t x=3.66399\t y=0.00\n",
      "Llamada i=6\t x=3.66520\t y=-0.00\n",
      "Llamada i=7\t x=3.66519\t y=-0.00\n"
     ]
    },
    {
     "data": {
      "text/plain": [
       "(3.66519143172732, 5)"
      ]
     },
     "execution_count": 11,
     "metadata": {},
     "output_type": "execute_result"
    }
   ],
   "source": [
    "i = 0\n",
    "import math\n",
    "\n",
    "\n",
    "def func(x):\n",
    "    global i\n",
    "    i += 1\n",
    "    y = math.sin(x) + 0.5\n",
    "    print(f\"Llamada i={i}\\t x={x:.5f}\\t y={y:.2f}\")\n",
    "    return y\n",
    "\n",
    "\n",
    "secant_method(func, x0=2, x1=3)"
   ]
  },
  {
   "cell_type": "markdown",
   "metadata": {},
   "source": [
    "Luego de optimizar el código y utilizando \\(x_0=2, x_1=3 \\), conteste:\n",
    "¿Cuál es el número mínimo de llamadas a la función para llegar a la raíz en el Ejemplo 1?\n",
    "* i= 8\n",
    "¿Cuál es el número mínimo de llamadas a la función para llegar a la raíz en el Ejemplo 2?\n",
    "* i=7"
   ]
  },
  {
   "cell_type": "markdown",
   "metadata": {},
   "source": []
  },
  {
   "cell_type": "markdown",
   "metadata": {},
   "source": [
    "7.  La interpolación de Lagrange nos permite construir un polinomio que pasa exactamente por un conjunto de puntos dados. Formalmente, el polinomio de Lagrange $P(x)$ se define como:\n",
    "\n",
    "$$\n",
    "P(x) = \\sum_{k=0}^n y_k \\prod_{i=0, i \\neq k}^n \\frac{x - x_i}{x_k - x_i}\n",
    "$$\n",
    "\n",
    "donde $(x_k, y_k)$ son los puntos de datos.\n",
    "\n",
    "Consideremos los puntos (0, 0), (1, 1), (2, 2) y (3, 3). Intuitivamente, la relación entre las coordenadas x e y es una función lineal. Por tanto, el polinomio de Lagrange de menor grado que interpola estos puntos es simplemente:\n",
    "\n",
    "$$\n",
    "P(x) = x\n",
    "$$\n",
    "\n",
    "Evaluando en x = 3.78 y x = 19.102, obtenemos:\n",
    "\n",
    "$$\n",
    "P(3.78) = 3.78\n",
    "$$\n",
    "$$\n",
    "P(19.102) = 19.102\n",
    "$$\n",
    "### El polinomio simplificado tiene orden =1."
   ]
  },
  {
   "cell_type": "code",
   "execution_count": 3,
   "metadata": {
    "ExecuteTime": {
     "end_time": "2024-12-12T02:11:17.985389Z",
     "start_time": "2024-12-12T02:11:17.735475Z"
    }
   },
   "outputs": [
    {
     "name": "stdout",
     "output_type": "stream",
     "text": [
      "x\n",
      "3.78000000000000\n",
      "19.1020000000000\n"
     ]
    }
   ],
   "source": [
    "import sympy as sp\n",
    "\n",
    "x = sp.Symbol('x')\n",
    "puntos = [(0, 0), (1, 1), (2, 2), (3, 3)]\n",
    "\n",
    "def lagrange_basis(puntos, k, x):\n",
    "    xk, _ = puntos[k]\n",
    "    Lk = 1\n",
    "    for i, (xi, _) in enumerate(puntos):\n",
    "        if i != k:\n",
    "            Lk *= (x - xi) / (xk - xi)\n",
    "    return Lk\n",
    "\n",
    "P = sum(yk * lagrange_basis(puntos, k, x) for k, (xk, yk) in enumerate(puntos))\n",
    "\n",
    "P_simplificado = sp.simplify(P)\n",
    "\n",
    "val_378 = P_simplificado.subs(x, 3.78)\n",
    "val_19102 = P_simplificado.subs(x, 19.102)\n",
    "\n",
    "print(P_simplificado)\n",
    "print(val_378)\n",
    "print(val_19102)"
   ]
  },
  {
   "cell_type": "markdown",
   "metadata": {},
   "source": [
    "8. Dados los puntos (-1,1),(0,5),(1,3), se ha obtenido los splines cúbicos correspondientes.\n",
    "Sin embargo, al observar la figura, usted no se siente satisfecho con la pendiente resultante en el punto ($x_1$,$y_1$). Y decide intentar una modificación a las ecuaciones, tal que los splines sean tangentes a una pendiente deseada m en el punto ($x_1$,$y_1$)\n",
    "![pregunta8](pregunta8.png)\n"
   ]
  },
  {
   "cell_type": "markdown",
   "metadata": {},
   "source": [
    "¿En caso de ser posible, y bajo qué condiciones se puede encontrar los splines cúbicos que cumplan con la condición de m?\n",
    "\n",
    "![pregunta8.1](pregunta8.1.png)"
   ]
  },
  {
   "cell_type": "markdown",
   "metadata": {},
   "source": [
    "Determine la ecuación que se debe modificar para poder cumplir con el requisito de m.\n",
    "* $S_0'(x)=S_1'(x)$\n",
    "* $S_0''(x_0)=0$\n",
    "* $S_1(x_2)=y_2$\n",
    "* $S_0(x_0)=y_0$\n",
    "* $S_1''(x_2)=0$\n",
    "* Ninguna de las anteriores\n",
    "* $S_0''(x_1)=S_1''(x_1)$\n",
    "* Sin solución única.Depende de los valores de m\n",
    "* $S_1(x_1)=y_1$\n",
    "* $S_0=(x_1)=y_1$\n",
    "Respuesta: La ecuación que se debe cambiar es la  $S_0''(x_1)=S_1''(x_1)$ debido a que debemos cumplir con la condición de la pendiente, se verá remplazada por la ecuación $S_0'(0)=-2$ y $S_1'(0)=-2$"
   ]
  },
  {
   "cell_type": "markdown",
   "metadata": {},
   "source": [
    "Escriba la expresión del spline $S_0$. En caso de no existir solución, llene los casilleros con Nan"
   ]
  },
  {
   "cell_type": "markdown",
   "metadata": {},
   "source": [
    "Para realizar este ejercicio, primero realizaremos una gráfica de los puntos"
   ]
  },
  {
   "cell_type": "code",
   "execution_count": 4,
   "metadata": {
    "ExecuteTime": {
     "end_time": "2024-12-12T02:11:21.260544Z",
     "start_time": "2024-12-12T02:11:17.987400Z"
    }
   },
   "outputs": [
    {
     "data": {
      "image/png": "[encoded data removed]",
      "text/plain": [
       "<Figure size 800x600 with 1 Axes>"
      ]
     },
     "metadata": {},
     "output_type": "display_data"
    }
   ],
   "source": [
    "import matplotlib.pyplot as plt\n",
    "x = [-1, 0, 1]\n",
    "y = [1, 5, 3]\n",
    "plt.figure(figsize=(8, 6))\n",
    "plt.scatter(x, y, color='blue', label=\"Puntos\")  \n",
    "plt.title(\"Gráfica de puntos\")\n",
    "plt.xlabel(\"Eje X\")\n",
    "plt.ylabel(\"Eje Y\")\n",
    "plt.axhline(0, color='black', linewidth=0.5, linestyle='--')\n",
    "plt.axvline(0, color='black', linewidth=0.5, linestyle='--')\n",
    "plt.grid(color='gray', linestyle='--', linewidth=0.5)\n",
    "plt.legend()\n",
    "plt.show()"
   ]
  },
  {
   "cell_type": "markdown",
   "metadata": {},
   "source": [
    "Planteamos las ecuaciones:\n",
    "### $S_0(-1)=1$\n",
    "* $a_0+b_0(-1-(-1))+c_0(-1-(-1))^2+d_0(-1-(-1))^3=1$\n",
    "* $a_0=1$\n",
    "\n",
    "### $S_0(0)=5$\n",
    "* $a_0+b_0(0-(-1))+c_0(0-(-1))^2+d_0(0-(-1))^3=5$\n",
    "\n",
    "* $a_0+b_0+c_0+d_0=5$\n",
    "\n",
    "### $S_0'(0)=-2$\n",
    "\n",
    "* $b_0+2c_0(0+1)+3d_0=-2$\n",
    "\n",
    "### $S_0''(-1)=0$\n",
    "\n",
    "* $2c_0+6d_0(-1+1)=0$\n",
    "\n",
    "* $c_0=0$\n",
    "\n",
    "### $S_1(0)=5$\n",
    "\n",
    "* $a_1+b_1(0-0)+c_1(0-0)^2+d_1(0-0)^3$\n",
    "\n",
    "* $a_1=5$\n",
    "\n",
    "\n",
    "### $S_1(1)=3$\n",
    "\n",
    "* $a_1+b_1(1-0)+c_1(1-0)^2+d_1(1-0)^3$\n",
    "\n",
    "* $a_1+b_1+c_1+d_1=3$\n",
    "\n",
    "### $S_1'(0)=-2$\n",
    "\n",
    "* $b_1+2c_1(0-0)+3d_1(0-0)=-2$\n",
    "\n",
    "### $S_1''(1)=0$\n",
    "\n",
    "* $2c_1+6d_1(1)0$\n",
    "\n",
    "* $2c_1+6d_1=0$\n",
    "## Respuesta\n",
    "* $S_0(x)=-3*(x-1)^3)+0*(x-(-1))^2+7*(x-1)+1$\n",
    "* $S_1(x)=0*(x-0)^3+0*(x-0)^2+-2*()$"
   ]
  },
  {
   "cell_type": "markdown",
   "metadata": {},
   "source": []
  },
  {
   "cell_type": "code",
   "execution_count": 4,
   "metadata": {
    "ExecuteTime": {
     "end_time": "2024-12-12T02:11:22.080838Z",
     "start_time": "2024-12-12T02:11:22.077633Z"
    }
   },
   "outputs": [],
   "source": []
  },
  {
   "cell_type": "code",
   "execution_count": 5,
   "metadata": {
    "ExecuteTime": {
     "end_time": "2024-12-12T02:13:35.875666Z",
     "start_time": "2024-12-12T02:13:35.718857Z"
    }
   },
   "outputs": [
    {
     "data": {
      "image/png": "[encoded data removed]",
      "text/plain": [
       "<Figure size 640x480 with 1 Axes>"
      ]
     },
     "metadata": {},
     "output_type": "display_data"
    }
   ],
   "source": [
    "xs = [-1,0,1]\n",
    "ys = [1,5,3]\n",
    "\n",
    "import matplotlib.pyplot as plt\n",
    "\n",
    "plt.scatter(xs, ys)\n",
    "plt.xlabel(\"Eje X\")\n",
    "plt.ylabel(\"Eje Y\")\n",
    "plt.title(\"Plot of x vs y\")\n",
    "plt.show()"
   ]
  },
  {
   "cell_type": "code",
   "execution_count": 6,
   "metadata": {
    "ExecuteTime": {
     "end_time": "2024-12-12T02:13:38.672004Z",
     "start_time": "2024-12-12T02:13:38.664527Z"
    }
   },
   "outputs": [],
   "source": [
    "def Spline(x: float, x0: float, pars: dict[int, float]) -> float:\n",
    "    a = pars[\"a\"]\n",
    "    b = pars[\"b\"]\n",
    "    c = pars[\"c\"]\n",
    "    d = pars[\"d\"]\n",
    "    return a + b * (x - x0) + c * (x - x0) ** 2 + d * (x - x0) ** 3"
   ]
  },
  {
   "cell_type": "code",
   "execution_count": 6,
   "metadata": {
    "ExecuteTime": {
     "end_time": "2024-12-12T02:11:25.215574Z",
     "start_time": "2024-12-12T02:11:25.211724Z"
    }
   },
   "outputs": [],
   "source": []
  },
  {
   "cell_type": "code",
   "execution_count": 7,
   "metadata": {
    "ExecuteTime": {
     "end_time": "2024-12-12T02:13:41.561453Z",
     "start_time": "2024-12-12T02:13:41.386254Z"
    }
   },
   "outputs": [
    {
     "data": {
      "image/png": "[encoded data removed]",
      "text/plain": [
       "<Figure size 640x480 with 1 Axes>"
      ]
     },
     "metadata": {},
     "output_type": "display_data"
    }
   ],
   "source": [
    "import numpy as np\n",
    "\n",
    "s = [\n",
    "    {\"a\": 1, \"b\": 7, \"c\": 0, \"d\": -3},\n",
    "    {\"a\": 5, \"b\": -2, \"c\":0, \"d\": 0},\n",
    "]\n",
    "for i, x_i in enumerate(xs[:-1]):\n",
    "    _x = np.linspace(x_i, xs[i + 1], 20)\n",
    "    y = Spline(_x, x_i, s[i])\n",
    "\n",
    "    plt.plot(_x, y, color=\"pink\")\n",
    "\n",
    "plt.scatter(xs, ys)\n",
    "plt.xlabel(\"x\")\n",
    "plt.ylabel(\"y\")\n",
    "plt.title(\"Interpolación con splines\")\n",
    "plt.show()\n"
   ]
  }
 ],
 "metadata": {
  "kernelspec": {
   "display_name": "Python 3",
   "language": "python",
   "name": "python3"
  },
  "language_info": {
   "codemirror_mode": {
    "name": "ipython",
    "version": 3
   },
   "file_extension": ".py",
   "mimetype": "text/x-python",
   "name": "python",
   "nbconvert_exporter": "python",
   "pygments_lexer": "ipython3",
   "version": "3.13.1"
  }
 },
 "nbformat": 4,
 "nbformat_minor": 2
}
